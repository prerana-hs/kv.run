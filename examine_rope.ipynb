{
 "cells": [
  {
   "cell_type": "code",
   "execution_count": 1,
   "metadata": {},
   "outputs": [],
   "source": [
    "import torch"
   ]
  },
  {
   "cell_type": "code",
   "execution_count": 2,
   "id": "1fab4dee",
   "metadata": {},
   "outputs": [],
   "source": [
    "cos = torch.load('cos')\n",
    "sin = torch.load('sin')\n",
    "rotary_pos_emb_causal = torch.load('rotary_pos_emb_causal')\n"
   ]
  },
  {
   "cell_type": "code",
   "execution_count": 44,
   "id": "eb01ed8e",
   "metadata": {},
   "outputs": [
    {
     "data": {
      "text/plain": [
       "tensor(True, device='cuda:0')"
      ]
     },
     "execution_count": 44,
     "metadata": {},
     "output_type": "execute_result"
    }
   ],
   "source": [
    "# rotary_pos_emb_flashinfer = torch.cat((cos, sin), dim=1).view(7, 32, 2)\n",
    "# rotary_pos_emb_flashinfer = torch.cat((cos.squeeze(2), sin.squeeze(2)), dim=2)\n",
    "rotary_pos_emb_flashinfer = torch.cat((cos.transpose(1, 2), sin.transpose(1, 2)), dim=2)\n",
    "torch.all(rotary_pos_emb_flashinfer == rotary_pos_emb_causal[0])"
   ]
  },
  {
   "cell_type": "code",
   "execution_count": 17,
   "id": "75fc5d99",
   "metadata": {},
   "outputs": [],
   "source": [
    "key_layer_before_causal = torch.load(\"key_layer_before_causal\")\n",
    "query_layer_before_causal = torch.load(\"query_layer_before_causal\")\n",
    "key_layer_before_flashinfer = torch.load(\"key_layer_before_flashinfer\")\n",
    "query_layer_before_flashinfer = torch.load(\"query_layer_before_flashinfer\")"
   ]
  },
  {
   "cell_type": "code",
   "execution_count": 25,
   "id": "fdcf31bf",
   "metadata": {},
   "outputs": [
    {
     "data": {
      "text/plain": [
       "(tensor(True, device='cuda:0'), tensor(False, device='cuda:0'))"
      ]
     },
     "execution_count": 25,
     "metadata": {},
     "output_type": "execute_result"
    }
   ],
   "source": [
    "torch.all(key_layer_before_causal[0] == key_layer_before_flashinfer.transpose(0, 1)), torch.all(query_layer_before_causal[0] == query_layer_before_flashinfer.transpose(0, 1))"
   ]
  },
  {
   "cell_type": "code",
   "execution_count": 31,
   "id": "9cc8839b",
   "metadata": {},
   "outputs": [
    {
     "data": {
      "text/plain": [
       "torch.Size([5, 3])"
      ]
     },
     "execution_count": 31,
     "metadata": {},
     "output_type": "execute_result"
    }
   ],
   "source": [
    "torch.nonzero(query_layer_before_causal[0] != query_layer_before_flashinfer.transpose(0, 1)).size()"
   ]
  },
  {
   "cell_type": "code",
   "execution_count": 27,
   "id": "96e60f63",
   "metadata": {},
   "outputs": [],
   "source": [
    "key_layer_after_causal = torch.load(\"key_layer_after_causal\")\n",
    "query_layer_after_causal = torch.load(\"query_layer_after_causal\")\n",
    "key_layer_after_flashinfer = torch.load(\"key_layer_after_flashinfer\")\n",
    "query_layer_after_flashinfer = torch.load(\"query_layer_after_flashinfer\")"
   ]
  },
  {
   "cell_type": "code",
   "execution_count": 28,
   "id": "5963e330",
   "metadata": {},
   "outputs": [
    {
     "data": {
      "text/plain": [
       "(tensor(False, device='cuda:0'), tensor(False, device='cuda:0'))"
      ]
     },
     "execution_count": 28,
     "metadata": {},
     "output_type": "execute_result"
    }
   ],
   "source": [
    "torch.all(key_layer_after_causal[0] == key_layer_after_flashinfer.transpose(0, 1)), torch.all(query_layer_after_causal[0] == query_layer_after_flashinfer.transpose(0, 1))"
   ]
  },
  {
   "cell_type": "code",
   "execution_count": 30,
   "id": "d713186a",
   "metadata": {},
   "outputs": [
    {
     "data": {
      "text/plain": [
       "torch.Size([9464, 3])"
      ]
     },
     "execution_count": 30,
     "metadata": {},
     "output_type": "execute_result"
    }
   ],
   "source": [
    "torch.nonzero(query_layer_after_causal[0] != query_layer_after_flashinfer.transpose(0, 1)).size()"
   ]
  },
  {
   "cell_type": "code",
   "execution_count": 32,
   "id": "1eda859d",
   "metadata": {},
   "outputs": [
    {
     "data": {
      "text/plain": [
       "torch.Size([604, 3])"
      ]
     },
     "execution_count": 32,
     "metadata": {},
     "output_type": "execute_result"
    }
   ],
   "source": [
    "torch.nonzero(key_layer_after_causal[0] != key_layer_after_flashinfer.transpose(0, 1)).size()"
   ]
  },
  {
   "cell_type": "code",
   "execution_count": 47,
   "id": "610ce086",
   "metadata": {},
   "outputs": [],
   "source": [
    "def assert_close(a, b, rtol, atol):\n",
    "    # rtol, atol = {\n",
    "    #     torch.float16: (1e-2, 5e-2),\n",
    "    #     torch.bfloat16: (8e-3, 8e-3),\n",
    "    # }[a.dtype]\n",
    "    torch.testing.assert_close(a, b, rtol=rtol, atol=atol)"
   ]
  },
  {
   "cell_type": "code",
   "execution_count": 48,
   "id": "d4fc2b93",
   "metadata": {},
   "outputs": [
    {
     "ename": "AssertionError",
     "evalue": "Tensor-likes are not close!\n\nMismatched elements: 5873 / 28672 (20.5%)\nGreatest absolute difference: 11.265625 at index (23, 6, 34) (up to 0.003 allowed)\nGreatest relative difference: 928.0 at index (26, 4, 11) (up to 0.01 allowed)",
     "output_type": "error",
     "traceback": [
      "\u001b[0;31m---------------------------------------------------------------------------\u001b[0m",
      "\u001b[0;31mAssertionError\u001b[0m                            Traceback (most recent call last)",
      "Cell \u001b[0;32mIn[48], line 1\u001b[0m\n\u001b[0;32m----> 1\u001b[0m \u001b[43massert_close\u001b[49m\u001b[43m(\u001b[49m\u001b[43mquery_layer_after_causal\u001b[49m\u001b[43m[\u001b[49m\u001b[38;5;241;43m0\u001b[39;49m\u001b[43m]\u001b[49m\u001b[43m,\u001b[49m\u001b[43m \u001b[49m\u001b[43mquery_layer_after_flashinfer\u001b[49m\u001b[38;5;241;43m.\u001b[39;49m\u001b[43mtranspose\u001b[49m\u001b[43m(\u001b[49m\u001b[38;5;241;43m0\u001b[39;49m\u001b[43m,\u001b[49m\u001b[43m \u001b[49m\u001b[38;5;241;43m1\u001b[39;49m\u001b[43m)\u001b[49m\u001b[43m,\u001b[49m\u001b[43m \u001b[49m\u001b[38;5;241;43m1e-2\u001b[39;49m\u001b[43m,\u001b[49m\u001b[43m \u001b[49m\u001b[38;5;241;43m3e-3\u001b[39;49m\u001b[43m)\u001b[49m\n",
      "Cell \u001b[0;32mIn[47], line 6\u001b[0m, in \u001b[0;36massert_close\u001b[0;34m(a, b, rtol, atol)\u001b[0m\n\u001b[1;32m      1\u001b[0m \u001b[38;5;28;01mdef\u001b[39;00m \u001b[38;5;21massert_close\u001b[39m(a, b, rtol, atol):\n\u001b[1;32m      2\u001b[0m     \u001b[38;5;66;03m# rtol, atol = {\u001b[39;00m\n\u001b[1;32m      3\u001b[0m     \u001b[38;5;66;03m#     torch.float16: (1e-2, 5e-2),\u001b[39;00m\n\u001b[1;32m      4\u001b[0m     \u001b[38;5;66;03m#     torch.bfloat16: (8e-3, 8e-3),\u001b[39;00m\n\u001b[1;32m      5\u001b[0m     \u001b[38;5;66;03m# }[a.dtype]\u001b[39;00m\n\u001b[0;32m----> 6\u001b[0m     \u001b[43mtorch\u001b[49m\u001b[38;5;241;43m.\u001b[39;49m\u001b[43mtesting\u001b[49m\u001b[38;5;241;43m.\u001b[39;49m\u001b[43massert_close\u001b[49m\u001b[43m(\u001b[49m\u001b[43ma\u001b[49m\u001b[43m,\u001b[49m\u001b[43m \u001b[49m\u001b[43mb\u001b[49m\u001b[43m,\u001b[49m\u001b[43m \u001b[49m\u001b[43mrtol\u001b[49m\u001b[38;5;241;43m=\u001b[39;49m\u001b[43mrtol\u001b[49m\u001b[43m,\u001b[49m\u001b[43m \u001b[49m\u001b[43matol\u001b[49m\u001b[38;5;241;43m=\u001b[39;49m\u001b[43matol\u001b[49m\u001b[43m)\u001b[49m\n",
      "File \u001b[0;32m/opt/conda/lib/python3.10/site-packages/torch/testing/_comparison.py:1523\u001b[0m, in \u001b[0;36massert_close\u001b[0;34m(actual, expected, allow_subclasses, rtol, atol, equal_nan, check_device, check_dtype, check_layout, check_stride, msg)\u001b[0m\n\u001b[1;32m   1501\u001b[0m error_metas \u001b[38;5;241m=\u001b[39m not_close_error_metas(\n\u001b[1;32m   1502\u001b[0m     actual,\n\u001b[1;32m   1503\u001b[0m     expected,\n\u001b[0;32m   (...)\u001b[0m\n\u001b[1;32m   1518\u001b[0m     msg\u001b[38;5;241m=\u001b[39mmsg,\n\u001b[1;32m   1519\u001b[0m )\n\u001b[1;32m   1521\u001b[0m \u001b[38;5;28;01mif\u001b[39;00m error_metas:\n\u001b[1;32m   1522\u001b[0m     \u001b[38;5;66;03m# TODO: compose all metas into one AssertionError\u001b[39;00m\n\u001b[0;32m-> 1523\u001b[0m     \u001b[38;5;28;01mraise\u001b[39;00m error_metas[\u001b[38;5;241m0\u001b[39m]\u001b[38;5;241m.\u001b[39mto_error(msg)\n",
      "\u001b[0;31mAssertionError\u001b[0m: Tensor-likes are not close!\n\nMismatched elements: 5873 / 28672 (20.5%)\nGreatest absolute difference: 11.265625 at index (23, 6, 34) (up to 0.003 allowed)\nGreatest relative difference: 928.0 at index (26, 4, 11) (up to 0.01 allowed)"
     ]
    }
   ],
   "source": [
    "assert_close(query_layer_after_causal[0], query_layer_after_flashinfer.transpose(0, 1), 1e-2, 3e-3)"
   ]
  },
  {
   "cell_type": "code",
   "execution_count": 49,
   "id": "cdc89ad6",
   "metadata": {},
   "outputs": [],
   "source": [
    "assert_close(query_layer_before_causal[0], query_layer_before_flashinfer.transpose(0, 1), 1e-2, 3e-3)"
   ]
  },
  {
   "cell_type": "code",
   "execution_count": 50,
   "id": "3e510ea2",
   "metadata": {},
   "outputs": [
    {
     "data": {
      "text/plain": [
       "torch.Size([1, 7, 32, 2])"
      ]
     },
     "execution_count": 50,
     "metadata": {},
     "output_type": "execute_result"
    }
   ],
   "source": [
    "rotary_pos_emb_causal.shape"
   ]
  },
  {
   "cell_type": "code",
   "execution_count": 51,
   "id": "2c886e5e",
   "metadata": {},
   "outputs": [
    {
     "data": {
      "text/plain": [
       "torch.Size([1, 7, 32])"
      ]
     },
     "execution_count": 51,
     "metadata": {},
     "output_type": "execute_result"
    }
   ],
   "source": [
    "torch.select(rotary_pos_emb_causal, dim=3, index=0).shape"
   ]
  },
  {
   "cell_type": "code",
   "execution_count": null,
   "id": "752e8c61",
   "metadata": {},
   "outputs": [],
   "source": []
  }
 ],
 "metadata": {
  "kernelspec": {
   "display_name": "base",
   "language": "python",
   "name": "python3"
  },
  "language_info": {
   "codemirror_mode": {
    "name": "ipython",
    "version": 3
   },
   "file_extension": ".py",
   "mimetype": "text/x-python",
   "name": "python",
   "nbconvert_exporter": "python",
   "pygments_lexer": "ipython3",
   "version": "3.10.14"
  }
 },
 "nbformat": 4,
 "nbformat_minor": 5
}
